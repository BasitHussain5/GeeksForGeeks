{
 "cells": [
  {
   "cell_type": "markdown",
   "id": "1bf7b919",
   "metadata": {},
   "source": [
    "# Area and perimeter of a rectangle\n",
    "*Write a program in Python that displays the area and perimeter of a rectangle with dimensions.* \n",
    "\n",
    "width = 4.5\n",
    "\n",
    "height = 7.9\n",
    "\n",
    "Use the following formulas:\n",
    "\n",
    "area = (width * height)\n",
    "\n",
    "perimeter = 2(width + height)\n",
    "\n",
    "**Input:**\n",
    "\n",
    "You don't need to take any input.\n",
    "\n",
    "**Output:**\n",
    "\n",
    "Print the area followed by the perimeter of the rectangle in separate lines. Use the round() function to display the result upto 2 decimal places\n",
    "\n",
    "**Syntax:**\n",
    "\n",
    "round(number,digits)\n",
    "\n",
    "**Example:**\n",
    "\n",
    "round(perimeter,2)\n",
    "\n",
    "This will round the variable called perimeter upto 2 decimal places."
   ]
  },
  {
   "cell_type": "code",
   "execution_count": 1,
   "id": "d09f6e75",
   "metadata": {},
   "outputs": [
    {
     "name": "stdout",
     "output_type": "stream",
     "text": [
      "35.55\n",
      "24.8\n"
     ]
    }
   ],
   "source": [
    "width = 4.5 \n",
    "height = 7.9\n",
    "Area = width * height\n",
    "Perimeter = 2 * (width + height)\n",
    "print(round(Area, 2)) \n",
    "print(round(Perimeter, 2)) "
   ]
  },
  {
   "cell_type": "markdown",
   "id": "ac629a1e",
   "metadata": {},
   "source": [
    "# Average Speed\n",
    "A runner runs 14 kilometres in 45 minutes and 30 seconds. Write a program in Python that displays the average speed in miles per hour. \n",
    "Note: 1 mile is 1.6 kilometres.\n",
    "\n",
    "**Input:**\n",
    "\n",
    "You don't need to take any input.\n",
    "\n",
    "**Output:**\n",
    "\n",
    "Print the the average speed in miles per hour. Use the round() function to display the result upto 2 decimal places. \n",
    "\n",
    "**Syntax:**\n",
    "\n",
    "round(number,digits)\n",
    "\n",
    "**Example:**\n",
    "\n",
    "round(avg_speed,2)\n",
    "\n",
    "This will round the variable called avg_speed upto 2 decimal places."
   ]
  },
  {
   "cell_type": "code",
   "execution_count": 2,
   "id": "91ad38fa",
   "metadata": {},
   "outputs": [
    {
     "name": "stdout",
     "output_type": "stream",
     "text": [
      "11.41\n"
     ]
    }
   ],
   "source": [
    "km = 14\n",
    "minu = 45\n",
    "sec = 30\n",
    "miles = km / 1.6\n",
    "farm = (45.5 * 60.0 + 30.0) / (60.0 * 60.0)\n",
    "mph = miles / farm\n",
    "print(round(mph,2))"
   ]
  },
  {
   "cell_type": "markdown",
   "id": "9c99c872",
   "metadata": {},
   "source": [
    "# Compute the volume of a cylinder\n",
    "Write a program in Python that reads in the radius and length of a cylinder and computes its volume using the following formulas: \n",
    "\n",
    "area_of_base = radius * radius * 3.14\n",
    "\n",
    "volume = area_of_base * length\n",
    "\n",
    "**Input:**\n",
    "\n",
    "Read radius and length with single line of input separated by a comma.\n",
    "\n",
    "**Output:**\n",
    "\n",
    "Print the the volume of the cylinder. Use the round() function to display the result upto 2 decimal places. \n",
    "\n",
    "**Syntax:**\n",
    "\n",
    "round(number,digits)\n",
    "\n",
    "**Example:**\n",
    "\n",
    "round(volume,2)\n",
    "\n",
    "This will round the variable called volume upto 2 decimal places.\n",
    "\n",
    "\n",
    "Example:\n",
    "\n",
    "Input: 2.5,4\\\n",
    "Output: 78.5"
   ]
  },
  {
   "cell_type": "code",
   "execution_count": 3,
   "id": "be1c9d40",
   "metadata": {},
   "outputs": [
    {
     "ename": "KeyboardInterrupt",
     "evalue": "Interrupted by user",
     "output_type": "error",
     "traceback": [
      "\u001b[1;31m---------------------------------------------------------------------------\u001b[0m",
      "\u001b[1;31mKeyboardInterrupt\u001b[0m                         Traceback (most recent call last)",
      "\u001b[1;32m<ipython-input-3-bd3c8967a649>\u001b[0m in \u001b[0;36m<module>\u001b[1;34m\u001b[0m\n\u001b[1;32m----> 1\u001b[1;33m \u001b[0mradius\u001b[0m\u001b[1;33m,\u001b[0m \u001b[0mlength\u001b[0m \u001b[1;33m=\u001b[0m \u001b[0mmap\u001b[0m\u001b[1;33m(\u001b[0m\u001b[0mfloat\u001b[0m\u001b[1;33m,\u001b[0m\u001b[0minput\u001b[0m\u001b[1;33m(\u001b[0m\u001b[1;34m\"write radius and length with , in single line: \"\u001b[0m\u001b[1;33m)\u001b[0m\u001b[1;33m.\u001b[0m\u001b[0msplit\u001b[0m\u001b[1;33m(\u001b[0m\u001b[1;34m','\u001b[0m\u001b[1;33m)\u001b[0m\u001b[1;33m)\u001b[0m\u001b[1;33m\u001b[0m\u001b[1;33m\u001b[0m\u001b[0m\n\u001b[0m\u001b[0;32m      2\u001b[0m \u001b[1;33m\u001b[0m\u001b[0m\n\u001b[0;32m      3\u001b[0m \u001b[0marea_of_base\u001b[0m \u001b[1;33m=\u001b[0m \u001b[0mradius\u001b[0m \u001b[1;33m*\u001b[0m \u001b[0mradius\u001b[0m \u001b[1;33m*\u001b[0m \u001b[1;36m3.14\u001b[0m\u001b[1;33m\u001b[0m\u001b[1;33m\u001b[0m\u001b[0m\n\u001b[0;32m      4\u001b[0m \u001b[1;33m\u001b[0m\u001b[0m\n\u001b[0;32m      5\u001b[0m \u001b[0mvolume\u001b[0m \u001b[1;33m=\u001b[0m \u001b[0marea_of_base\u001b[0m \u001b[1;33m*\u001b[0m \u001b[0mlength\u001b[0m\u001b[1;33m\u001b[0m\u001b[1;33m\u001b[0m\u001b[0m\n",
      "\u001b[1;32mC:\\ProgramData\\Anaconda3\\lib\\site-packages\\ipykernel\\kernelbase.py\u001b[0m in \u001b[0;36mraw_input\u001b[1;34m(self, prompt)\u001b[0m\n\u001b[0;32m    858\u001b[0m                 \u001b[1;34m\"raw_input was called, but this frontend does not support input requests.\"\u001b[0m\u001b[1;33m\u001b[0m\u001b[1;33m\u001b[0m\u001b[0m\n\u001b[0;32m    859\u001b[0m             )\n\u001b[1;32m--> 860\u001b[1;33m         return self._input_request(str(prompt),\n\u001b[0m\u001b[0;32m    861\u001b[0m             \u001b[0mself\u001b[0m\u001b[1;33m.\u001b[0m\u001b[0m_parent_ident\u001b[0m\u001b[1;33m,\u001b[0m\u001b[1;33m\u001b[0m\u001b[1;33m\u001b[0m\u001b[0m\n\u001b[0;32m    862\u001b[0m             \u001b[0mself\u001b[0m\u001b[1;33m.\u001b[0m\u001b[0m_parent_header\u001b[0m\u001b[1;33m,\u001b[0m\u001b[1;33m\u001b[0m\u001b[1;33m\u001b[0m\u001b[0m\n",
      "\u001b[1;32mC:\\ProgramData\\Anaconda3\\lib\\site-packages\\ipykernel\\kernelbase.py\u001b[0m in \u001b[0;36m_input_request\u001b[1;34m(self, prompt, ident, parent, password)\u001b[0m\n\u001b[0;32m    902\u001b[0m             \u001b[1;32mexcept\u001b[0m \u001b[0mKeyboardInterrupt\u001b[0m\u001b[1;33m:\u001b[0m\u001b[1;33m\u001b[0m\u001b[1;33m\u001b[0m\u001b[0m\n\u001b[0;32m    903\u001b[0m                 \u001b[1;31m# re-raise KeyboardInterrupt, to truncate traceback\u001b[0m\u001b[1;33m\u001b[0m\u001b[1;33m\u001b[0m\u001b[1;33m\u001b[0m\u001b[0m\n\u001b[1;32m--> 904\u001b[1;33m                 \u001b[1;32mraise\u001b[0m \u001b[0mKeyboardInterrupt\u001b[0m\u001b[1;33m(\u001b[0m\u001b[1;34m\"Interrupted by user\"\u001b[0m\u001b[1;33m)\u001b[0m \u001b[1;32mfrom\u001b[0m \u001b[1;32mNone\u001b[0m\u001b[1;33m\u001b[0m\u001b[1;33m\u001b[0m\u001b[0m\n\u001b[0m\u001b[0;32m    905\u001b[0m             \u001b[1;32mexcept\u001b[0m \u001b[0mException\u001b[0m \u001b[1;32mas\u001b[0m \u001b[0me\u001b[0m\u001b[1;33m:\u001b[0m\u001b[1;33m\u001b[0m\u001b[1;33m\u001b[0m\u001b[0m\n\u001b[0;32m    906\u001b[0m                 \u001b[0mself\u001b[0m\u001b[1;33m.\u001b[0m\u001b[0mlog\u001b[0m\u001b[1;33m.\u001b[0m\u001b[0mwarning\u001b[0m\u001b[1;33m(\u001b[0m\u001b[1;34m\"Invalid Message:\"\u001b[0m\u001b[1;33m,\u001b[0m \u001b[0mexc_info\u001b[0m\u001b[1;33m=\u001b[0m\u001b[1;32mTrue\u001b[0m\u001b[1;33m)\u001b[0m\u001b[1;33m\u001b[0m\u001b[1;33m\u001b[0m\u001b[0m\n",
      "\u001b[1;31mKeyboardInterrupt\u001b[0m: Interrupted by user"
     ]
    }
   ],
   "source": [
    "radius, length = map(float,input(\"write radius and length with , in single line: \").split(','))\n",
    "\n",
    "area_of_base = radius * radius * 3.14\n",
    "\n",
    "volume = area_of_base * length\n",
    "\n",
    "print(volume)"
   ]
  },
  {
   "cell_type": "markdown",
   "id": "d555da90",
   "metadata": {},
   "source": [
    "# Last 3 digits in phone number\n",
    "Find the last three digits of the user's phone number.\n",
    "\n",
    "**Input:**\n",
    "\n",
    "Single line of input contains the user's phone number.\n",
    "\n",
    "**Output:**\n",
    "\n",
    "Print the last three digits of the phone number.\n",
    "\n",
    "**Example:**\n",
    "\n",
    "**Input:**\n",
    "\n",
    "9910023537\n",
    "\n",
    "**Output:**\n",
    "\n",
    "537\n",
    "\n",
    "**Explanation:**\n",
    "\n",
    "537 are the last 3 digits of the given number."
   ]
  },
  {
   "cell_type": "code",
   "execution_count": null,
   "id": "68f4b84e",
   "metadata": {},
   "outputs": [],
   "source": [
    "inp = int(input())\n",
    "print(inp%1000)"
   ]
  },
  {
   "cell_type": "markdown",
   "id": "14174397",
   "metadata": {},
   "source": [
    "# Distribute Chocolates\n",
    "Your Favourite teacher distributes chocolates in the following manner:\n",
    "\n",
    "2 chocolates on day1\\\n",
    "4 chocolates on day2\\\n",
    "8 chocolates on day3\\\n",
    "Write a python program that will help your teacher to find out how many chocolates to be distributed on nth day.\\\n",
    "\n",
    "**Input:**\n",
    "\n",
    "Read the day number as input.\n",
    "\n",
    "**Output:**\n",
    "\n",
    "Print the number of chocolates to be distributed on the nth day.\n",
    "\n",
    "**Example:**\n",
    "\n",
    "**Input: 3**\n",
    "\n",
    "**Output: 8**"
   ]
  },
  {
   "cell_type": "code",
   "execution_count": null,
   "id": "5495e4f8",
   "metadata": {},
   "outputs": [],
   "source": [
    "n=int(input())\n",
    "print(2**n)"
   ]
  },
  {
   "cell_type": "markdown",
   "id": "c049e172",
   "metadata": {},
   "source": [
    "# Day after X days\n",
    "Suppose today is Sunday. You and your friend are going to meet after X days. What day will that be?\n",
    "\n",
    "**Input:**\n",
    "\n",
    "Read X as input. \n",
    "\n",
    "**Output:**\n",
    "\n",
    "Print the day when the user will meet his friend. Print 0 for Sunday, 1 for Moday, and so on.\n",
    "\n",
    "\n",
    "**Example 1:**\n",
    "\n",
    "Input: 5\n",
    "\n",
    "Output: 5\n",
    "\n",
    "Explanation: It will be Friday so the output is 5.\n",
    "\n",
    "**Example 2:*\n",
    "\n",
    "Input: 10\n",
    "\n",
    "Output: 3\n",
    "\n",
    "Explanation: It will be Wednesday so the output is 3."
   ]
  },
  {
   "cell_type": "code",
   "execution_count": null,
   "id": "d72ea908",
   "metadata": {},
   "outputs": [],
   "source": [
    "Days = int(input())\n",
    "print(Days%7)"
   ]
  },
  {
   "cell_type": "markdown",
   "id": "a385e8a3",
   "metadata": {},
   "source": [
    "# Lucky Number \n",
    "A shopkeeper gives out free chocolates if you are of lucky age. An age is lucky if it's divisible by 3. Write a python program that will help the shopkeeper find out if your age is lucky or not.\n",
    "\n",
    "Input:\\\n",
    "Read the user's age as input.\n",
    "\n",
    "Output:\\\n",
    "Print 1 if your age is lucky and print 0 otherwise.\n",
    "\n",
    "Example 1:\n",
    "\n",
    "Input: 3\\\n",
    "Output: 1\\\n",
    "Explanation: 3 is divisible by 3.\\\n",
    "Example 2:\n",
    "\n",
    "Input: 5\\\n",
    "Output: 0\\\n",
    "Explanation: 5 is not divisible by 3."
   ]
  },
  {
   "cell_type": "code",
   "execution_count": null,
   "id": "cae31323",
   "metadata": {},
   "outputs": [],
   "source": [
    "age = eval(input())\n",
    "if age%3==0:\n",
    "    print('1')\n",
    "else:\n",
    "    print('0')"
   ]
  },
  {
   "cell_type": "markdown",
   "id": "5b694f69",
   "metadata": {},
   "source": [
    "# Point in Rectangle \n",
    "Your math teacher has given you co-ordinates of the bottom-left and top-right corner of a rectangle, and another point P. Find if the given point lies inside the rectangle or not.\n",
    "\n",
    "Input:\\\n",
    "Read 3 lines of input, each line contains two integers.\\\n",
    "First line contains the co-ordinates of the bottom-left corner.\\\n",
    "Second line contains the co-ordinates of the top-right corner.\\\n",
    "Third line contains the co-ordinates of point P.\n",
    "\n",
    "Output:\\\n",
    "Print 1 if the given point lies inside the rectangle, print 0 otherwise.\n",
    "\n",
    "Example 1:\n",
    "\n",
    "Input:\\\n",
    "0,0 \n",
    "10,8\\\n",
    "1,5\\\n",
    "Output: 1\\\n",
    "Explanation: Point P(1,5) lies inside the given rectangle.\\\n",
    "Example 2:\n",
    "\n",
    "Input:\\\n",
    "0,0\\\n",
    "4,4 \\\n",
    "5,5 \\\n",
    "Output: 0\\\n",
    "Explanation: Point P(5,5) does not lie inside the given rectangle."
   ]
  },
  {
   "cell_type": "code",
   "execution_count": null,
   "id": "ae35838e",
   "metadata": {},
   "outputs": [],
   "source": [
    "x,y=input().split(',')\n",
    "a,b=input().split(',')\n",
    "c,d=input().split(',')\n",
    "\n",
    "\n",
    "if (c>=x or c<=a) and (d>=y and d<=b):\n",
    "    print(1)\n",
    "else :\n",
    "    print(0)"
   ]
  },
  {
   "cell_type": "markdown",
   "id": "5a16dfd6",
   "metadata": {},
   "source": [
    "# Leap Year or Not \n",
    "Geek has given you a number which denotes a year. Find if that year is a leap year or not.\n",
    "\n",
    "Input:\\\n",
    "Read the year as input.\n",
    "\n",
    "Output:\\\n",
    "Print 1 if the given year is a Leap Year and print 0 otherwise.\n",
    "\n",
    "Example 1:\n",
    "\n",
    "Input: 2012\\\n",
    "Output: 1\\\n",
    "Explanation: 2012 is a leap year\\\n",
    "Example 2:\n",
    "\n",
    "Input: 2019\\\n",
    "Output: 0\\\n",
    "Explanation: 2019 is not a leap year."
   ]
  },
  {
   "cell_type": "code",
   "execution_count": null,
   "id": "32dbd202",
   "metadata": {},
   "outputs": [],
   "source": [
    "leap_year = eval(input())\n",
    "if leap_year % 400 == 0:\n",
    "    print(1)\n",
    "elif leap_year % 4 == 0 and leap_year%100!=0:\n",
    "    print(1)\n",
    "else:\n",
    "    print(0)"
   ]
  },
  {
   "cell_type": "markdown",
   "id": "a2f7b3c5",
   "metadata": {},
   "source": [
    "# Even Numbers in Range\n",
    "Write a python program to find all the even numbers in a given range.\n",
    "\n",
    "Input:\n",
    "Read two integers seprated by a comma denoting the range.\n",
    "\n",
    "Output:\n",
    "Print all the even numbers in the range. Each printed number should be followed with a space (even the last one).\n",
    "\n",
    "Example:\n",
    "\n",
    "Input: 1,4\n",
    "Output: 2 4 \n"
   ]
  },
  {
   "cell_type": "code",
   "execution_count": null,
   "id": "ed679c89",
   "metadata": {},
   "outputs": [],
   "source": [
    "x,y=input().split(\",\")\n",
    "\n",
    "for i in range(int(x),int(y)+1):\n",
    "    if(i%2==0):\n",
    "        print(i,end=\" \")"
   ]
  },
  {
   "cell_type": "markdown",
   "id": "7034a825",
   "metadata": {},
   "source": [
    "# Find the Pattern\n",
    "Given N, make the corresponding pattern that has N lines.\n",
    "\n",
    "Input:\n",
    "Read N ie- the number of lines of the pattern as input.\n",
    "\n",
    "Output:\n",
    "Print the pattern consisiting of n lines.\n",
    "\n",
    "Example 1:\n",
    "\n",
    "Input: 2\n",
    "Output: \n",
    "*\n",
    "**\n",
    "Example 2:\n",
    "\n",
    "Input: 4\n",
    "Output: \n",
    "*\n",
    "**\n",
    "***\n",
    "****\n"
   ]
  },
  {
   "cell_type": "code",
   "execution_count": null,
   "id": "b0b9a6c8",
   "metadata": {},
   "outputs": [],
   "source": [
    "N = eval(input())\n",
    "for i in range(0,N):\n",
    "    for j in range(0,i+1):\n",
    "        print(\"*\",end=\"\")\n",
    "    print()"
   ]
  },
  {
   "cell_type": "markdown",
   "id": "e4cf3e41",
   "metadata": {},
   "source": [
    "# Sum of Digits\n",
    "Write a python program to find out sum of digits of a number N. \n",
    "\n",
    "Input:\n",
    "Read a single line of input containing number N.\n",
    "\n",
    "Output:\n",
    "Print the sum of all digits of the number N. \n",
    "\n",
    "Example:\n",
    "\n",
    "Input: 18\n",
    "Output: 9\n",
    "Explanation: 1+8 = 9"
   ]
  },
  {
   "cell_type": "code",
   "execution_count": null,
   "id": "9ef94867",
   "metadata": {},
   "outputs": [],
   "source": [
    "N = eval(input())\n",
    "sum = 0\n",
    "while (N != 0):\n",
    "    sum = sum + int(N % 10)\n",
    "    N = int(N/10)\n",
    "print(sum)"
   ]
  },
  {
   "cell_type": "markdown",
   "id": "83178c35",
   "metadata": {},
   "source": [
    "# Find the LCM\n",
    "Write a python program to find the LCM of two numbers.\n",
    "\n",
    "Input:\n",
    "Read a single line of input containing two numbers separated by comma.\n",
    "\n",
    "Output:\n",
    "Print the LCM of the two numbers.\n",
    "\n",
    "Example:\n",
    "\n",
    "Input: 2,3\n",
    "Output: 6"
   ]
  },
  {
   "cell_type": "code",
   "execution_count": 12,
   "id": "c7976e1e",
   "metadata": {},
   "outputs": [
    {
     "name": "stdout",
     "output_type": "stream",
     "text": [
      "1 2\n"
     ]
    },
    {
     "ename": "SyntaxError",
     "evalue": "unexpected EOF while parsing (<string>, line 1)",
     "output_type": "error",
     "traceback": [
      "Traceback \u001b[1;36m(most recent call last)\u001b[0m:\n",
      "  File \u001b[0;32m\"C:\\ProgramData\\Anaconda3\\lib\\site-packages\\IPython\\core\\interactiveshell.py\"\u001b[0m, line \u001b[0;32m3437\u001b[0m, in \u001b[0;35mrun_code\u001b[0m\n    exec(code_obj, self.user_global_ns, self.user_ns)\n",
      "\u001b[1;36m  File \u001b[1;32m\"<ipython-input-12-773c2d96a31d>\"\u001b[1;36m, line \u001b[1;32m1\u001b[1;36m, in \u001b[1;35m<module>\u001b[1;36m\u001b[0m\n\u001b[1;33m    x,y = eval(input())\u001b[0m\n",
      "\u001b[1;36m  File \u001b[1;32m\"<string>\"\u001b[1;36m, line \u001b[1;32m1\u001b[0m\n\u001b[1;33m    1 2\u001b[0m\n\u001b[1;37m      ^\u001b[0m\n\u001b[1;31mSyntaxError\u001b[0m\u001b[1;31m:\u001b[0m unexpected EOF while parsing\n"
     ]
    }
   ],
   "source": [
    "x,y = eval(input())\n",
    "if x > y:\n",
    "    greater = x\n",
    "else:\n",
    "    greater = y\n",
    "\n",
    "while(True):\n",
    "    if((greater % x == 0) and (greater % y == 0)):\n",
    "        lcm = greater\n",
    "        break\n",
    "    greater += 1\n",
    "\n",
    "print(lcm)"
   ]
  },
  {
   "cell_type": "markdown",
   "id": "5a28aa19",
   "metadata": {},
   "source": [
    "# Composite Numbers\n",
    "Geek does not like Prime Numbers. He has given two numbers and wants you to find all Non-Prime numbers between the two given numbers.\n",
    "\n",
    "A number is Prime if it's divisible\n",
    "by only itself and 1. Any number that\n",
    "isn't prime is called a Composite Number.\n",
    "Write a python program to find all Composite Numbers in the given range.\n",
    "\n",
    "Input:\n",
    "Read two numbers denoting the range.\n",
    "\n",
    "Output:\n",
    "Print all non-prime numbers in the given range. Every printed number should be followed by a space.\n",
    "\n",
    "Example 1:\n",
    "\n",
    "Input: 3,7\n",
    "Output: 4 6\n",
    "Explanation: 4 and 6 are the only non-prime\n",
    "numbers in the given range."
   ]
  },
  {
   "cell_type": "code",
   "execution_count": 4,
   "id": "c1039b7b",
   "metadata": {},
   "outputs": [
    {
     "name": "stdout",
     "output_type": "stream",
     "text": [
      "3,7\n",
      "4 6 "
     ]
    }
   ],
   "source": [
    "a,b = eval(input())\n",
    "start = min(a,b)\n",
    "end = max(a,b)\n",
    "count = 0\n",
    "\n",
    "for start in range(start, end+1):\n",
    "    for i in range(1, start+1):\n",
    "        if(start % i == 0):\n",
    "            count += 1\n",
    "    if(count > 2):\n",
    "        print(start, end=\" \")\n",
    "    count = 0"
   ]
  },
  {
   "cell_type": "markdown",
   "id": "c5860595",
   "metadata": {},
   "source": [
    " #  Prime Number\n",
    " Given a number n, find if it is prime or not.\n",
    "\n",
    "Example 1:\n",
    "\n",
    "Input: n = 7\n",
    "Output: 1\n",
    "Explanation:\n",
    "7 is a prime number. Output is 1.\n",
    "Example 2:\n",
    "\n",
    "Input: n = 4\n",
    "Output: 0\n",
    "Explanation:\n",
    "4 is not a prime number. Output is 0.\n",
    "Your Task:\n",
    "You don't need to read input or print anything. Your task is to complete the function isPrime() which takes integer n as input parameter and returns 1 if n is a prime number and 0 if it is not."
   ]
  },
  {
   "cell_type": "code",
   "execution_count": 8,
   "id": "ed7c1554",
   "metadata": {},
   "outputs": [
    {
     "name": "stdout",
     "output_type": "stream",
     "text": [
      "7\n"
     ]
    },
    {
     "data": {
      "text/plain": [
       "1"
      ]
     },
     "execution_count": 8,
     "metadata": {},
     "output_type": "execute_result"
    }
   ],
   "source": [
    "def isPrime(n):\n",
    " \n",
    "    # Corner case\n",
    "    if (n <= 1):\n",
    "        return False\n",
    " \n",
    "    # Check from 2 to n-1\n",
    "    for i in range(2, n):\n",
    "        if (n % i == 0):\n",
    "            return 0\n",
    " \n",
    "    return 1\n",
    "isPrime(int(input()))"
   ]
  },
  {
   "cell_type": "markdown",
   "id": "ca1d189a",
   "metadata": {},
   "source": [
    "# Walter and Jesse\n",
    "Walter has A friends. Each friend gives him A candies. He needs to distribute the candies among B students in his class such that everyone in his class gets the same number of candies. \n",
    "Jesse has X friends. Each friend gives him X candies. He needs to distribute the candies among Y students in his class such that everyone in his class gets the same number of candies. \n",
    "Use in-bulit python functions to find the students of which class got more candies and how many.\n",
    "\n",
    "Input: \n",
    "Input consists of 2 lines.\n",
    "The first line has two integers A and B. \n",
    "The second line has two integers X and Y.\n",
    "\n",
    "Output:\n",
    "Print the number of candies each student got in the classroom where the students got more candies.\n",
    "\n",
    "Example:\n",
    "\n",
    "Input:\n",
    "8,4\n",
    "6,2\n",
    "\n",
    "Output:\n",
    "18\n",
    "\n",
    "Explanation:\n",
    "Each student in Walter's class got 16 candies.\n",
    "Each student in Jesse's class got 18 candies.\n",
    "So, the output is 18."
   ]
  },
  {
   "cell_type": "code",
   "execution_count": 11,
   "id": "2997e5af",
   "metadata": {},
   "outputs": [
    {
     "name": "stdout",
     "output_type": "stream",
     "text": [
      "A and B: 8,4\n",
      "X and Y: 6,2\n",
      "18.0\n"
     ]
    }
   ],
   "source": [
    "A,B=map(int, input(\"A and B: \").split(','))\n",
    "X,Y=map(int, input(\"X and Y: \").split(','))\n",
    "walter = (A*A)/B\n",
    "jesse = (X*X)/Y\n",
    "if walter>jesse:\n",
    "    print(walter)\n",
    "else:\n",
    "    print(jesse)"
   ]
  },
  {
   "cell_type": "markdown",
   "id": "875099b5",
   "metadata": {},
   "source": [
    "# Find the Pin\n",
    "Write a program in python that reads an address and returns the Pincode from the address.\n",
    "\n",
    "Input:\n",
    "Read the address as input in form of a String.\n",
    "\n",
    "Output:\n",
    "Print the Pincode from the address.\n",
    "Note: The address doesn't contain any spaces or numbers except that of the Pincode. Also, a Pincode is always of 6 digits.\n",
    "\n",
    "Example:\n",
    "\n",
    "Input: WalterStreet,713201\n",
    "Output: 713201"
   ]
  },
  {
   "cell_type": "code",
   "execution_count": 18,
   "id": "596df880",
   "metadata": {},
   "outputs": [
    {
     "name": "stdout",
     "output_type": "stream",
     "text": [
      "sadsad,555555\n",
      "555555\n"
     ]
    }
   ],
   "source": [
    "address = input()\n",
    "b = address.split(',')\n",
    "if len(b[1]) ==6:\n",
    "    print(b[1])\n",
    "        \n",
    "else:\n",
    "    print(\"worng address\")\n"
   ]
  },
  {
   "cell_type": "markdown",
   "id": "03abc50a",
   "metadata": {},
   "source": [
    "# Make a Palindrome\n",
    "Jesse gave you you a String of length n. He asked you to find a Palindrome String of length exactly 2*n-1, where the first n characters form the original string.\n",
    "\n",
    "A Palindrome is a word that reads\n",
    "the same backward as forward.\n",
    "Input:\n",
    "Read a String as input.\n",
    "\n",
    "Output:\n",
    "Print the required Palindromic String.\n",
    "\n",
    "Example:\n",
    "\n",
    "Input: abcd\n",
    "Output: abcdcba"
   ]
  },
  {
   "cell_type": "code",
   "execution_count": null,
   "id": "b3c4e4d0",
   "metadata": {},
   "outputs": [],
   "source": []
  },
  {
   "cell_type": "markdown",
   "id": "6e131846",
   "metadata": {},
   "source": [
    "# Count Even Odd - Python\n",
    "Hope you are now aware of Python Lists. Prove this by solving the problem given below:\n",
    "\n",
    "Given a list arr of positive integers. The task is to count the number of even elements and odd elements in this list.\n",
    "\n",
    "Example:\n",
    "\n",
    "Input:\n",
    "N = 7 \n",
    "arr = [1, 2, 3, 4, 5, 6, 7]\n",
    "Output: \n",
    "3 4\n",
    "Explanation: \n",
    "In the given list, there are 3 even numbers  \n",
    "(2, 4, 6) and 4 odd elements (1, 3, 5, 7).\n",
    "Your Task:\n",
    "Your task is to complete the function count_even_odd() which should returns a list (you can use append() method in list to add elements) in which first element as count of even and second element as count of odd .\n",
    "\n",
    "Constraints:\n",
    "1 <= N <= 106\n",
    "1 <= arr[i] <= 106"
   ]
  },
  {
   "cell_type": "code",
   "execution_count": null,
   "id": "f30763a3",
   "metadata": {},
   "outputs": [],
   "source": [
    "def count_even_odd(N, arr):\n",
    "    c_e = 0\n",
    "    c_o = 0\n",
    "    \n",
    "    pair = list()\n",
    "    \n",
    "    \n",
    "    # your code here\n",
    "    \n",
    "    \n",
    "    pair.append(c_e)\n",
    "    pair.append(c_o)\n",
    "    \n",
    "    return pair\n",
    "\n",
    "#{ \n",
    "#Driver Code Starts.\n",
    "# Driver Code\n",
    "def main():\n",
    "    \n",
    "    # Testcase input\n",
    "    testcases = int(input())\n",
    "    \n",
    "    # Looping through testcases\n",
    "    while(testcases > 0):\n",
    "        # size of array\n",
    "        N = int(input())\n",
    "        \n",
    "        # array elements input\n",
    "        array = input().split()\n",
    "        # print (array)\n",
    "        arr = list()\n",
    "        for i in array:\n",
    "            arr.append(int(i))\n",
    "            \n",
    "        # print (arr)\n",
    "        \n",
    "        # calling function to count even odd\n",
    "        a = count_even_odd(N, arr)\n",
    "        print (a[0], a[1])\n",
    "        testcases -= 1\n",
    " \n",
    "if __name__ == '__main__':\n",
    "    main()\n",
    "#} Driver Code "
   ]
  },
  {
   "cell_type": "markdown",
   "id": "60982ba3",
   "metadata": {},
   "source": [
    "# Average_Min_Max - Python\n",
    "Great...! You are now up with various inbuilt functions in Python List. Now, the time is to get introduced to some other useful functions, described below:\n",
    "a. sum(list) : returns the sum of all elements in the list.\n",
    "b. min(list) : returns the minimum element from the list.\n",
    "c. max(list) : return the maximum element from the list.\n",
    "\n",
    "Now, let's use these methods through a question. Given a list arr of integers, the task is to find the average of all elements in the list, ignoring the minimum and maximum from the list. If more than one copy of minimum and maximum element exists, ignore one.\n",
    "\n",
    "Example:\n",
    "\n",
    "Input:\n",
    "N = 5 \n",
    "arr = [6, 4, 8, 12, 3]\n",
    "Output: \n",
    "6\n",
    "Explanation: \n",
    "Minimum element in the list is 3 and\n",
    "maximum is 12, so average excluding \n",
    "min and max is 18 / 3 = 6.\n",
    "Your Task:\n",
    "Your task is to complete the function calc_average(), that takes arr as input, and returns the required average.\n",
    "\n",
    "Constraints:\n",
    "3 <= N <= 104\n",
    "1 <= arr[i] <= 104"
   ]
  },
  {
   "cell_type": "code",
   "execution_count": null,
   "id": "dcbeb6f6",
   "metadata": {},
   "outputs": [],
   "source": [
    "def calc_average(arr):\n",
    "    # Your code here\n",
    "\n",
    "#{ \n",
    "#  Driver Code Starts\n",
    "#Initial Template for Python 3\n",
    "\n",
    "\n",
    "# Driver Code\n",
    "if __name__ == '__main__':\n",
    "    # Testcase input\n",
    "    testcases = int(input())\n",
    "    # Looping through testcases\n",
    "    while(testcases > 0):\n",
    "        N = int(input())\n",
    "        \n",
    "        a = list(map(int,input().strip().split()))\n",
    "        \n",
    "        print (calc_average(a))\n",
    "        \n",
    "        testcases -= 1\n",
    "# } Driver Code Ends"
   ]
  },
  {
   "cell_type": "code",
   "execution_count": null,
   "id": "de75e4f0",
   "metadata": {},
   "outputs": [],
   "source": []
  }
 ],
 "metadata": {
  "kernelspec": {
   "display_name": "Python 3",
   "language": "python",
   "name": "python3"
  },
  "language_info": {
   "codemirror_mode": {
    "name": "ipython",
    "version": 3
   },
   "file_extension": ".py",
   "mimetype": "text/x-python",
   "name": "python",
   "nbconvert_exporter": "python",
   "pygments_lexer": "ipython3",
   "version": "3.8.8"
  }
 },
 "nbformat": 4,
 "nbformat_minor": 5
}
